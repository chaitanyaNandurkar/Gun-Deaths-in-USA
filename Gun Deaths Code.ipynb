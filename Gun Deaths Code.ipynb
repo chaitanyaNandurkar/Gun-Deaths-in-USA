{
 "cells": [
  {
   "cell_type": "code",
   "execution_count": 1,
   "metadata": {
    "collapsed": false
   },
   "outputs": [
    {
     "data": {
      "text/plain": [
       "[['',\n",
       "  'year',\n",
       "  'month',\n",
       "  'intent',\n",
       "  'police',\n",
       "  'sex',\n",
       "  'age',\n",
       "  'race',\n",
       "  'hispanic',\n",
       "  'place',\n",
       "  'education'],\n",
       " ['1',\n",
       "  '2012',\n",
       "  '01',\n",
       "  'Suicide',\n",
       "  '0',\n",
       "  'M',\n",
       "  '34',\n",
       "  'Asian/Pacific Islander',\n",
       "  '100',\n",
       "  'Home',\n",
       "  '4'],\n",
       " ['2', '2012', '01', 'Suicide', '0', 'F', '21', 'White', '100', 'Street', '3'],\n",
       " ['3',\n",
       "  '2012',\n",
       "  '01',\n",
       "  'Suicide',\n",
       "  '0',\n",
       "  'M',\n",
       "  '60',\n",
       "  'White',\n",
       "  '100',\n",
       "  'Other specified',\n",
       "  '4'],\n",
       " ['4', '2012', '02', 'Suicide', '0', 'M', '64', 'White', '100', 'Home', '4']]"
      ]
     },
     "execution_count": 1,
     "metadata": {},
     "output_type": "execute_result"
    }
   ],
   "source": [
    "# Introducing US Gun Deaths Data\n",
    "import csv\n",
    "f = open(\"guns.csv\", 'r')\n",
    "csvreader = csv.reader(f)\n",
    "data = list(csvreader)\n",
    "data[:5]"
   ]
  },
  {
   "cell_type": "code",
   "execution_count": 2,
   "metadata": {
    "collapsed": false
   },
   "outputs": [
    {
     "name": "stdout",
     "output_type": "stream",
     "text": [
      "['', 'year', 'month', 'intent', 'police', 'sex', 'age', 'race', 'hispanic', 'place', 'education']\n",
      "[['1', '2012', '01', 'Suicide', '0', 'M', '34', 'Asian/Pacific Islander', '100', 'Home', '4'], ['2', '2012', '01', 'Suicide', '0', 'F', '21', 'White', '100', 'Street', '3'], ['3', '2012', '01', 'Suicide', '0', 'M', '60', 'White', '100', 'Other specified', '4'], ['4', '2012', '02', 'Suicide', '0', 'M', '64', 'White', '100', 'Home', '4'], ['5', '2012', '02', 'Suicide', '0', 'M', '31', 'White', '100', 'Other specified', '2']]\n"
     ]
    }
   ],
   "source": [
    "# Removing header from the list\n",
    "headers = data[0]\n",
    "data = data[1:]\n",
    "print(headers)\n",
    "print(data[:5])"
   ]
  },
  {
   "cell_type": "code",
   "execution_count": 3,
   "metadata": {
    "collapsed": false
   },
   "outputs": [
    {
     "name": "stdout",
     "output_type": "stream",
     "text": [
      "{'2012': 33563, '2014': 33599, '2013': 33636}\n"
     ]
    }
   ],
   "source": [
    "# Counting gun deaths by year\n",
    "years = [row[1] for row in data]\n",
    "year_counts = {}\n",
    "for year in years:\n",
    "    if year not in year_counts:\n",
    "        year_counts[year] = 1\n",
    "    else:\n",
    "        year_counts[year] = year_counts[year] + 1\n",
    "print(year_counts)"
   ]
  },
  {
   "cell_type": "code",
   "execution_count": 7,
   "metadata": {
    "collapsed": false
   },
   "outputs": [
    {
     "name": "stdout",
     "output_type": "stream",
     "text": [
      "[datetime.datetime(2012, 1, 1, 0, 0), datetime.datetime(2012, 1, 1, 0, 0), datetime.datetime(2012, 1, 1, 0, 0), datetime.datetime(2012, 2, 1, 0, 0), datetime.datetime(2012, 2, 1, 0, 0)]\n"
     ]
    }
   ],
   "source": [
    "import datetime\n",
    "dates = [datetime.datetime(year=int(year[1]), month=int(year[2]), day=1) for year in data]\n",
    "print(dates[0:5])   "
   ]
  },
  {
   "cell_type": "code",
   "execution_count": 11,
   "metadata": {
    "collapsed": false
   },
   "outputs": [
    {
     "data": {
      "text/plain": [
       "{datetime.datetime(2012, 1, 1, 0, 0): 2758,\n",
       " datetime.datetime(2012, 2, 1, 0, 0): 2357,\n",
       " datetime.datetime(2012, 3, 1, 0, 0): 2743,\n",
       " datetime.datetime(2012, 4, 1, 0, 0): 2795,\n",
       " datetime.datetime(2012, 5, 1, 0, 0): 2999,\n",
       " datetime.datetime(2012, 6, 1, 0, 0): 2826,\n",
       " datetime.datetime(2012, 7, 1, 0, 0): 3026,\n",
       " datetime.datetime(2012, 8, 1, 0, 0): 2954,\n",
       " datetime.datetime(2012, 9, 1, 0, 0): 2852,\n",
       " datetime.datetime(2012, 10, 1, 0, 0): 2733,\n",
       " datetime.datetime(2012, 11, 1, 0, 0): 2729,\n",
       " datetime.datetime(2012, 12, 1, 0, 0): 2791,\n",
       " datetime.datetime(2013, 1, 1, 0, 0): 2864,\n",
       " datetime.datetime(2013, 2, 1, 0, 0): 2375,\n",
       " datetime.datetime(2013, 3, 1, 0, 0): 2862,\n",
       " datetime.datetime(2013, 4, 1, 0, 0): 2798,\n",
       " datetime.datetime(2013, 5, 1, 0, 0): 2806,\n",
       " datetime.datetime(2013, 6, 1, 0, 0): 2920,\n",
       " datetime.datetime(2013, 7, 1, 0, 0): 3079,\n",
       " datetime.datetime(2013, 8, 1, 0, 0): 2859,\n",
       " datetime.datetime(2013, 9, 1, 0, 0): 2742,\n",
       " datetime.datetime(2013, 10, 1, 0, 0): 2808,\n",
       " datetime.datetime(2013, 11, 1, 0, 0): 2758,\n",
       " datetime.datetime(2013, 12, 1, 0, 0): 2765,\n",
       " datetime.datetime(2014, 1, 1, 0, 0): 2651,\n",
       " datetime.datetime(2014, 2, 1, 0, 0): 2361,\n",
       " datetime.datetime(2014, 3, 1, 0, 0): 2684,\n",
       " datetime.datetime(2014, 4, 1, 0, 0): 2862,\n",
       " datetime.datetime(2014, 5, 1, 0, 0): 2864,\n",
       " datetime.datetime(2014, 6, 1, 0, 0): 2931,\n",
       " datetime.datetime(2014, 7, 1, 0, 0): 2884,\n",
       " datetime.datetime(2014, 8, 1, 0, 0): 2970,\n",
       " datetime.datetime(2014, 9, 1, 0, 0): 2914,\n",
       " datetime.datetime(2014, 10, 1, 0, 0): 2865,\n",
       " datetime.datetime(2014, 11, 1, 0, 0): 2756,\n",
       " datetime.datetime(2014, 12, 1, 0, 0): 2857}"
      ]
     },
     "execution_count": 11,
     "metadata": {},
     "output_type": "execute_result"
    }
   ],
   "source": [
    "date_counts = {}\n",
    "for date in dates:\n",
    "    if date not in date_counts:\n",
    "        date_counts[date] = 1\n",
    "    else:\n",
    "        date_counts[date] = date_counts[date] + 1\n",
    "date_counts"
   ]
  },
  {
   "cell_type": "code",
   "execution_count": 18,
   "metadata": {
    "collapsed": false
   },
   "outputs": [
    {
     "data": {
      "text/plain": [
       "{'F': 14449, 'M': 86349}"
      ]
     },
     "execution_count": 18,
     "metadata": {},
     "output_type": "execute_result"
    }
   ],
   "source": [
    "# Exploring deaths by race and sex\n",
    "sex = [row[5] for row in data]\n",
    "race = [row[7] for row in data]\n",
    "sex_counts = {}\n",
    "race_counts =  {}\n",
    "for i, sexes in enumerate(sex):\n",
    "    if sexes not in sex_counts:\n",
    "        sex_counts[sexes] = 1\n",
    "    else:\n",
    "        sex_counts[sexes] = sex_counts[sexes] + 1\n",
    "        \n",
    "    races = race[i]\n",
    "    if races not in race_counts:\n",
    "        race_counts[races] = 1\n",
    "    else:\n",
    "        race_counts[races] = race_counts[races] + 1\n",
    "\n",
    "sex_counts"
   ]
  },
  {
   "cell_type": "code",
   "execution_count": 19,
   "metadata": {
    "collapsed": false
   },
   "outputs": [
    {
     "data": {
      "text/plain": [
       "{'Asian/Pacific Islander': 1326,\n",
       " 'Black': 23296,\n",
       " 'Hispanic': 9022,\n",
       " 'Native American/Native Alaskan': 917,\n",
       " 'White': 66237}"
      ]
     },
     "execution_count": 19,
     "metadata": {},
     "output_type": "execute_result"
    }
   ],
   "source": [
    "race_counts"
   ]
  },
  {
   "cell_type": "code",
   "execution_count": 25,
   "metadata": {
    "collapsed": false
   },
   "outputs": [
    {
     "name": "stdout",
     "output_type": "stream",
     "text": [
      "[['Id', 'Year', 'Id', 'Sex', 'Id', 'Hispanic Origin', 'Id', 'Id2', 'Geography', 'Total', 'Race Alone - White', 'Race Alone - Hispanic', 'Race Alone - Black or African American', 'Race Alone - American Indian and Alaska Native', 'Race Alone - Asian', 'Race Alone - Native Hawaiian and Other Pacific Islander', 'Two or More Races'], ['cen42010', 'April 1, 2010 Census', 'totsex', 'Both Sexes', 'tothisp', 'Total', '0100000US', '', 'United States', '308745538', '197318956', '44618105', '40250635', '3739506', '15159516', '674625', '6984195']]\n"
     ]
    }
   ],
   "source": [
    "# Reading In a second dataset\n",
    "f = open('census.csv')\n",
    "census_csv = csv.reader(f)\n",
    "census = list(census_csv)\n",
    "print(census)"
   ]
  },
  {
   "cell_type": "code",
   "execution_count": 26,
   "metadata": {
    "collapsed": false
   },
   "outputs": [
    {
     "name": "stdout",
     "output_type": "stream",
     "text": [
      "{'Native American/Native Alaskan': 3739506, 'Black': 40250635, 'Asian/Pacific Islander': 15834141, 'Hispanic': 44618105, 'White': 197318956}\n"
     ]
    }
   ],
   "source": [
    "#Computing Rates of Gun Deaths Per Race\n",
    "mapping = {\n",
    "    'Asian/Pacific Islander': int(census[1][14]) + int(census[1][15]),\n",
    "    'Black': int(census[1][12]),\n",
    "    'Native American/Native Alaskan': int(census[1][13]),\n",
    "    'Hispanic': int(census[1][11]),\n",
    "    'White': int(census[1][10])\n",
    "}\n",
    "print(mapping)"
   ]
  },
  {
   "cell_type": "code",
   "execution_count": 29,
   "metadata": {
    "collapsed": false
   },
   "outputs": [
    {
     "data": {
      "text/plain": [
       "{'Asian/Pacific Islander': 8.374309664161762,\n",
       " 'Black': 57.8773477735196,\n",
       " 'Hispanic': 20.220491210910907,\n",
       " 'Native American/Native Alaskan': 24.521955573811088,\n",
       " 'White': 33.56849303419181}"
      ]
     },
     "execution_count": 29,
     "metadata": {},
     "output_type": "execute_result"
    }
   ],
   "source": [
    "# Calculating rate of gun deaths per 100000 people for each race\n",
    "race_per_hundredk = {}\n",
    "for race, count in race_counts.items():\n",
    "     race_per_hundredk[race] = (count / mapping[race]) * 100000\n",
    "race_per_hundredk"
   ]
  },
  {
   "cell_type": "code",
   "execution_count": 30,
   "metadata": {
    "collapsed": false
   },
   "outputs": [
    {
     "data": {
      "text/plain": [
       "{'Asian/Pacific Islander': 3.530346230970155,\n",
       " 'Black': 48.471284987180944,\n",
       " 'Hispanic': 12.627161104219914,\n",
       " 'Native American/Native Alaskan': 8.717729026240365,\n",
       " 'White': 4.6356417981453335}"
      ]
     },
     "execution_count": 30,
     "metadata": {},
     "output_type": "execute_result"
    }
   ],
   "source": [
    "# Finding homicide rates by race per 100000 people\n",
    "intents = [row[3] for row in data]\n",
    "races = [row[7] for row in data]\n",
    "\n",
    "homicide_race_per_hundredk = {}\n",
    "for i, race in enumerate(races):\n",
    "    if intents[i] == 'Homicide':\n",
    "        if race not in homicide_race_per_hundredk:\n",
    "            homicide_race_per_hundredk[race] = 1\n",
    "        else:\n",
    "            homicide_race_per_hundredk[race] += 1\n",
    "            \n",
    "for race, count in homicide_race_per_hundredk.items():\n",
    "     homicide_race_per_hundredk[race] = (count / mapping[race]) * 100000\n",
    "\n",
    "homicide_race_per_hundredk"
   ]
  },
  {
   "cell_type": "code",
   "execution_count": 31,
   "metadata": {
    "collapsed": false
   },
   "outputs": [
    {
     "data": {
      "text/plain": [
       "{'01': 0.9374958276216315,\n",
       " '02': 0.721762429324819,\n",
       " '03': 0.9212578299003661,\n",
       " '04': 0.9427980309591875,\n",
       " '05': 0.9862098207854278,\n",
       " '06': 1.037243527909405,\n",
       " '07': 1.083306419404423,\n",
       " '08': 1.0355865893664187,\n",
       " '09': 0.9828959436994553,\n",
       " '10': 0.9835587191166497,\n",
       " '11': 0.9673207213953843,\n",
       " '12': 1.0574581781338372}"
      ]
     },
     "execution_count": 31,
     "metadata": {},
     "output_type": "execute_result"
    }
   ],
   "source": [
    "# Exploring link between month and homicide rate\n",
    "months = [row[2] for row in data]\n",
    "\n",
    "homicide_mon_per_hundredk = {}\n",
    "\n",
    "for i, r in enumerate(months):\n",
    "    if intents[i] == \"Homicide\":\n",
    "        if r not in homicide_mon_per_hundredk:\n",
    "            homicide_mon_per_hundredk[r] = 0\n",
    "        homicide_mon_per_hundredk[r] += 1\n",
    "\n",
    "total_people_count = sum([mapping[k] for k in mapping])\n",
    "for key in homicide_mon_per_hundredk:\n",
    "    homicide_mon_per_hundredk[key] = homicide_mon_per_hundredk[key] / total_people_count * 100000\n",
    "    \n",
    "homicide_mon_per_hundredk"
   ]
  },
  {
   "cell_type": "code",
   "execution_count": 32,
   "metadata": {
    "collapsed": false
   },
   "outputs": [
    {
     "name": "stdout",
     "output_type": "stream",
     "text": [
      "{'2012': 4.007471560066592, '2014': 3.7808023673860705, '2013': 3.8686201101643425}\n",
      "{'03': 0.9212578299003661, '07': 1.083306419404423, '09': 0.9828959436994553, '12': 1.0574581781338372, '10': 0.9835587191166497, '02': 0.721762429324819, '06': 1.037243527909405, '08': 1.0355865893664187, '11': 0.9673207213953843, '01': 0.9374958276216315, '04': 0.9427980309591875, '05': 0.9862098207854278}\n",
      "{'M': 9.87634787932396, 'F': 1.7805461582930453}\n",
      "{'White': 3.0312033705390817, 'Black': 6.465374194732425, 'Asian/Pacific Islander': 0.18524572910586495, 'Hispanic': 1.8670383502369288, 'Native American/Native Alaskan': 0.1080323930027048}\n"
     ]
    }
   ],
   "source": [
    "# Explore homicide by sex\n",
    "def calc_homicide_rate(column_idx):\n",
    "    atrribute_data = [row[column_idx] for row in data]\n",
    "    ret_dic = {}\n",
    "    \n",
    "    for i, r in enumerate(atrribute_data):\n",
    "        if intents[i] == \"Homicide\":\n",
    "            if r not in ret_dic:\n",
    "                ret_dic[r] = 0\n",
    "            ret_dic[r] += 1\n",
    "            \n",
    "    for key in ret_dic:\n",
    "        ret_dic[key] = ret_dic[key] / total_people_count * 100000\n",
    "        \n",
    "    return ret_dic;\n",
    "\n",
    "homicide_rate_year = calc_homicide_rate(1)\n",
    "homicide_rate_mon = calc_homicide_rate(2)\n",
    "homicide_rate_gender = calc_homicide_rate(5)\n",
    "homicide_rate_race = calc_homicide_rate(7)\n",
    "\n",
    "print(homicide_rate_year)\n",
    "print(homicide_rate_mon)\n",
    "print(homicide_rate_gender)\n",
    "print(homicide_rate_race)"
   ]
  },
  {
   "cell_type": "code",
   "execution_count": 33,
   "metadata": {
    "collapsed": false
   },
   "outputs": [
    {
     "name": "stdout",
     "output_type": "stream",
     "text": [
      "{'M': 0.47090193391669793, 'F': 0.07224252047420136}\n",
      "{'White': 0.3751308861320915, 'Black': 0.1086951684198993, 'Asian/Pacific Islander': 0.003976652503167048, 'Hispanic': 0.04805121774660183, 'Native American/Native Alaskan': 0.007290529589139587}\n"
     ]
    }
   ],
   "source": [
    "# Exploring rates by other intents\n",
    "def calc_specific_intent_rate(column_idx, intent_string):\n",
    "    atrribute_data = [row[column_idx] for row in data]\n",
    "    target_intent =  intent_string\n",
    "    ret_dic = {}\n",
    "    \n",
    "    for i, r in enumerate(atrribute_data):\n",
    "        if intents[i] == target_intent:\n",
    "            if r not in ret_dic:\n",
    "                ret_dic[r] = 0\n",
    "            ret_dic[r] += 1\n",
    "            \n",
    "    for key in ret_dic:\n",
    "        ret_dic[key] = ret_dic[key] / total_people_count * 100000\n",
    "        \n",
    "    return ret_dic;\n",
    "\n",
    "accidental_rate_gender = calc_specific_intent_rate(5, \"Accidental\")\n",
    "accidental_rate_race = calc_specific_intent_rate(7, \"Accidental\")\n",
    "\n",
    "print(accidental_rate_gender)\n",
    "print(accidental_rate_race)"
   ]
  },
  {
   "cell_type": "code",
   "execution_count": null,
   "metadata": {
    "collapsed": true
   },
   "outputs": [],
   "source": []
  }
 ],
 "metadata": {
  "kernelspec": {
   "display_name": "Python 3",
   "language": "python",
   "name": "python3"
  },
  "language_info": {
   "codemirror_mode": {
    "name": "ipython",
    "version": 3
   },
   "file_extension": ".py",
   "mimetype": "text/x-python",
   "name": "python",
   "nbconvert_exporter": "python",
   "pygments_lexer": "ipython3",
   "version": "3.4.3"
  }
 },
 "nbformat": 4,
 "nbformat_minor": 0
}
